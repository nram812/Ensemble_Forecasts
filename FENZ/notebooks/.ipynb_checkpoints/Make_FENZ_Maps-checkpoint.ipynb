{
 "cells": [
  {
   "cell_type": "markdown",
   "metadata": {},
   "source": [
    "# mapping the ICU rainfall forecast"
   ]
  },
  {
   "cell_type": "code",
   "execution_count": 1,
   "metadata": {},
   "outputs": [],
   "source": [
    "%matplotlib inline"
   ]
  },
  {
   "cell_type": "code",
   "execution_count": 2,
   "metadata": {},
   "outputs": [],
   "source": [
    "import os\n",
    "import sys\n",
    "import pathlib"
   ]
  },
  {
   "cell_type": "code",
   "execution_count": 3,
   "metadata": {},
   "outputs": [],
   "source": [
    "import numpy as np\n",
    "import pandas as pd\n",
    "\n",
    "import geopandas as gpd\n",
    "\n",
    "import cartopy.crs as ccrs\n",
    "from cartopy.feature import ShapelyFeature\n",
    "import cartopy.io.shapereader as shpreader\n",
    "\n",
    "import matplotlib.pyplot as plt\n",
    "from matplotlib import patheffects\n",
    "from matplotlib.transforms import offset_copy"
   ]
  },
  {
   "cell_type": "markdown",
   "metadata": {},
   "source": [
    "### loads the local functions"
   ]
  },
  {
   "cell_type": "code",
   "execution_count": 4,
   "metadata": {},
   "outputs": [],
   "source": [
    "sys.path.append(str(pathlib.Path.cwd().parent))"
   ]
  },
  {
   "cell_type": "code",
   "execution_count": 5,
   "metadata": {},
   "outputs": [],
   "source": [
    "from lib import *"
   ]
  },
  {
   "cell_type": "code",
   "execution_count": null,
   "metadata": {},
   "outputs": [],
   "source": []
  },
  {
   "cell_type": "markdown",
   "metadata": {},
   "source": [
    "### defines the path to the shapefiles "
   ]
  },
  {
   "cell_type": "code",
   "execution_count": 6,
   "metadata": {},
   "outputs": [],
   "source": [
    "shapes_path = pathlib.Path.cwd().parents[1] /'FENZ'/'data'/ 'shapes' / 'NZ_Regions' "
   ]
  },
  {
   "cell_type": "markdown",
   "metadata": {},
   "source": [
    "### build dictionnary with level: colors for mapping of rainfall forecasts "
   ]
  },
  {
   "cell_type": "code",
   "execution_count": 7,
   "metadata": {},
   "outputs": [],
   "source": [
    "outlook_rgb = [[255, 244, 65], [255, 159, 65], [255, 59, 65], [255,255,255]]"
   ]
  },
  {
   "cell_type": "code",
   "execution_count": 8,
   "metadata": {},
   "outputs": [],
   "source": [
    "outlook_rgb = [rgb2hex(*x) for x in outlook_rgb]"
   ]
  },
  {
   "cell_type": "code",
   "execution_count": 9,
   "metadata": {},
   "outputs": [],
   "source": [
    "outlook_rgb = dict(zip(['low', 'medium', 'high', 'missing'], outlook_rgb))"
   ]
  },
  {
   "cell_type": "code",
   "execution_count": 10,
   "metadata": {},
   "outputs": [
    {
     "data": {
      "text/plain": [
       "{'low': '#fff441',\n",
       " 'medium': '#ff9f41',\n",
       " 'high': '#ff3b41',\n",
       " 'missing': '#ffffff'}"
      ]
     },
     "execution_count": 10,
     "metadata": {},
     "output_type": "execute_result"
    }
   ],
   "source": [
    "outlook_rgb"
   ]
  },
  {
   "cell_type": "markdown",
   "metadata": {},
   "source": [
    "### set crs here "
   ]
  },
  {
   "cell_type": "markdown",
   "metadata": {},
   "source": [
    "**NOTE**: potential problems with the Mercator projection might be due to the version of `proj4` that is used"
   ]
  },
  {
   "cell_type": "code",
   "execution_count": 11,
   "metadata": {},
   "outputs": [],
   "source": [
    "extent = [166, 179, -47.5, -34.1]"
   ]
  },
  {
   "cell_type": "code",
   "execution_count": 12,
   "metadata": {},
   "outputs": [],
   "source": [
    "crs = ccrs.Mercator(latitude_true_scale=-40., min_latitude=extent[-2], max_latitude=extent[-1])"
   ]
  },
  {
   "cell_type": "code",
   "execution_count": 13,
   "metadata": {},
   "outputs": [],
   "source": [
    "# crs = ccrs.PlateCarree()"
   ]
  },
  {
   "cell_type": "markdown",
   "metadata": {},
   "source": [
    "### read the shapefile with the ICU EEZ geometries"
   ]
  },
  {
   "cell_type": "code",
   "execution_count": 14,
   "metadata": {},
   "outputs": [],
   "source": [
    "#shapes_path = pathlib.Path.cwd().parents[1] / 'data' / 'shapefiles' / 'ICU' / 'all_ICU_countries'"
   ]
  },
  {
   "cell_type": "code",
   "execution_count": 15,
   "metadata": {},
   "outputs": [],
   "source": [
    "shape_gpd = gpd.read_file(shapes_path / 'svr.shp')"
   ]
  },
  {
   "cell_type": "code",
   "execution_count": 16,
   "metadata": {},
   "outputs": [],
   "source": [
    "shape_gpd = shape_gpd.loc[:,['REGC2018_1','geometry']]"
   ]
  },
  {
   "cell_type": "code",
   "execution_count": 17,
   "metadata": {},
   "outputs": [],
   "source": [
    "#lons_lats = {}\n",
    "#for i, row in shape_gpd.iterrows():\n",
    "    #geom = row.geometry\n",
    "    #x = geom.centroid.xy[0][0]\n",
    "    #y = geom.centroid.xy[1][0]\n",
    "    #lons_lats[row.COUNTRYNAM] = np.array([x, y]) \n",
    "#lons_lats = pd.DataFrame(lons_lats).T\n",
    "#lons_lats.columns = ['lon','lat']"
   ]
  },
  {
   "cell_type": "code",
   "execution_count": 18,
   "metadata": {},
   "outputs": [],
   "source": [
    "#shape_gpd.set_index('COUNTRYNAM', drop=False, inplace=True)"
   ]
  },
  {
   "cell_type": "code",
   "execution_count": 19,
   "metadata": {},
   "outputs": [],
   "source": [
    "#shape_gpd.loc[:,'name_to_plot'] = shape_gpd.loc[:,'COUNTRYNAM']"
   ]
  },
  {
   "cell_type": "code",
   "execution_count": 20,
   "metadata": {},
   "outputs": [],
   "source": [
    "#shape_gpd = shape_gpd.merge(lons_lats, left_index=True, right_index=True)"
   ]
  },
  {
   "cell_type": "code",
   "execution_count": 21,
   "metadata": {},
   "outputs": [],
   "source": [
    "shape_gpd = shape_gpd.drop(16, axis=0)"
   ]
  },
  {
   "cell_type": "code",
   "execution_count": 22,
   "metadata": {},
   "outputs": [
    {
     "data": {
      "text/html": [
       "<div>\n",
       "<style scoped>\n",
       "    .dataframe tbody tr th:only-of-type {\n",
       "        vertical-align: middle;\n",
       "    }\n",
       "\n",
       "    .dataframe tbody tr th {\n",
       "        vertical-align: top;\n",
       "    }\n",
       "\n",
       "    .dataframe thead th {\n",
       "        text-align: right;\n",
       "    }\n",
       "</style>\n",
       "<table border=\"1\" class=\"dataframe\">\n",
       "  <thead>\n",
       "    <tr style=\"text-align: right;\">\n",
       "      <th></th>\n",
       "      <th>REGC2018_1</th>\n",
       "      <th>geometry</th>\n",
       "    </tr>\n",
       "  </thead>\n",
       "  <tbody>\n",
       "    <tr>\n",
       "      <th>0</th>\n",
       "      <td>Northland Region</td>\n",
       "      <td>POLYGON ((173.1296337501863 -34.21388178335995...</td>\n",
       "    </tr>\n",
       "    <tr>\n",
       "      <th>1</th>\n",
       "      <td>Auckland Region</td>\n",
       "      <td>POLYGON ((175.0838311834375 -35.6998300326489,...</td>\n",
       "    </tr>\n",
       "    <tr>\n",
       "      <th>2</th>\n",
       "      <td>Waikato Region</td>\n",
       "      <td>POLYGON ((176.021811100262 -36.37127286673313,...</td>\n",
       "    </tr>\n",
       "    <tr>\n",
       "      <th>3</th>\n",
       "      <td>Bay of Plenty Region</td>\n",
       "      <td>POLYGON ((176.5204359841055 -37.35486831625581...</td>\n",
       "    </tr>\n",
       "    <tr>\n",
       "      <th>4</th>\n",
       "      <td>Gisborne Region</td>\n",
       "      <td>POLYGON ((178.2334151846358 -37.3333335650473,...</td>\n",
       "    </tr>\n",
       "    <tr>\n",
       "      <th>5</th>\n",
       "      <td>Hawke's Bay Region</td>\n",
       "      <td>POLYGON ((177.1282447332019 -38.58643378250209...</td>\n",
       "    </tr>\n",
       "    <tr>\n",
       "      <th>6</th>\n",
       "      <td>Taranaki Region</td>\n",
       "      <td>POLYGON ((174.6165745508525 -38.72090301667241...</td>\n",
       "    </tr>\n",
       "    <tr>\n",
       "      <th>7</th>\n",
       "      <td>Manawatu-Wanganui Region</td>\n",
       "      <td>POLYGON ((175.5404559172229 -38.47219096644076...</td>\n",
       "    </tr>\n",
       "    <tr>\n",
       "      <th>8</th>\n",
       "      <td>Wellington Region</td>\n",
       "      <td>POLYGON ((175.173208765827 -40.71963690002863,...</td>\n",
       "    </tr>\n",
       "    <tr>\n",
       "      <th>9</th>\n",
       "      <td>West Coast Region</td>\n",
       "      <td>POLYGON ((172.2418564827838 -40.82628281629157...</td>\n",
       "    </tr>\n",
       "    <tr>\n",
       "      <th>10</th>\n",
       "      <td>Canterbury Region</td>\n",
       "      <td>POLYGON ((173.7502820504679 -41.90886063298426...</td>\n",
       "    </tr>\n",
       "    <tr>\n",
       "      <th>11</th>\n",
       "      <td>Otago Region</td>\n",
       "      <td>POLYGON ((169.675153184104 -43.95638378293365,...</td>\n",
       "    </tr>\n",
       "    <tr>\n",
       "      <th>12</th>\n",
       "      <td>Southland Region</td>\n",
       "      <td>POLYGON ((168.0570689000215 -44.25984868175906...</td>\n",
       "    </tr>\n",
       "    <tr>\n",
       "      <th>13</th>\n",
       "      <td>Tasman Region</td>\n",
       "      <td>POLYGON ((172.7393729329311 -40.30128546655451...</td>\n",
       "    </tr>\n",
       "    <tr>\n",
       "      <th>14</th>\n",
       "      <td>Nelson Region</td>\n",
       "      <td>POLYGON ((173.3610310833733 -40.80537513297607...</td>\n",
       "    </tr>\n",
       "    <tr>\n",
       "      <th>15</th>\n",
       "      <td>Marlborough Region</td>\n",
       "      <td>POLYGON ((174.5396774161644 -41.10538558291987...</td>\n",
       "    </tr>\n",
       "  </tbody>\n",
       "</table>\n",
       "</div>"
      ],
      "text/plain": [
       "                  REGC2018_1  \\\n",
       "0           Northland Region   \n",
       "1            Auckland Region   \n",
       "2             Waikato Region   \n",
       "3       Bay of Plenty Region   \n",
       "4            Gisborne Region   \n",
       "5         Hawke's Bay Region   \n",
       "6            Taranaki Region   \n",
       "7   Manawatu-Wanganui Region   \n",
       "8          Wellington Region   \n",
       "9          West Coast Region   \n",
       "10         Canterbury Region   \n",
       "11              Otago Region   \n",
       "12          Southland Region   \n",
       "13             Tasman Region   \n",
       "14             Nelson Region   \n",
       "15        Marlborough Region   \n",
       "\n",
       "                                             geometry  \n",
       "0   POLYGON ((173.1296337501863 -34.21388178335995...  \n",
       "1   POLYGON ((175.0838311834375 -35.6998300326489,...  \n",
       "2   POLYGON ((176.021811100262 -36.37127286673313,...  \n",
       "3   POLYGON ((176.5204359841055 -37.35486831625581...  \n",
       "4   POLYGON ((178.2334151846358 -37.3333335650473,...  \n",
       "5   POLYGON ((177.1282447332019 -38.58643378250209...  \n",
       "6   POLYGON ((174.6165745508525 -38.72090301667241...  \n",
       "7   POLYGON ((175.5404559172229 -38.47219096644076...  \n",
       "8   POLYGON ((175.173208765827 -40.71963690002863,...  \n",
       "9   POLYGON ((172.2418564827838 -40.82628281629157...  \n",
       "10  POLYGON ((173.7502820504679 -41.90886063298426...  \n",
       "11  POLYGON ((169.675153184104 -43.95638378293365,...  \n",
       "12  POLYGON ((168.0570689000215 -44.25984868175906...  \n",
       "13  POLYGON ((172.7393729329311 -40.30128546655451...  \n",
       "14  POLYGON ((173.3610310833733 -40.80537513297607...  \n",
       "15  POLYGON ((174.5396774161644 -41.10538558291987...  "
      ]
     },
     "execution_count": 22,
     "metadata": {},
     "output_type": "execute_result"
    }
   ],
   "source": [
    "shape_gpd"
   ]
  },
  {
   "cell_type": "markdown",
   "metadata": {},
   "source": [
    "### reads the table containing the rainfall forecasts "
   ]
  },
  {
   "cell_type": "markdown",
   "metadata": {},
   "source": [
    "### do not forget to set the climatological forecasts to -666 in the below CSV BEFORE loading it in this notebook"
   ]
  },
  {
   "cell_type": "code",
   "execution_count": 23,
   "metadata": {
    "scrolled": true
   },
   "outputs": [],
   "source": [
    "#pathlib.Path.cwd().parents[1] / 'bulletin' / bulletin_dir"
   ]
  },
  {
   "cell_type": "code",
   "execution_count": 24,
   "metadata": {},
   "outputs": [],
   "source": [
    "table = pd.read_csv(pathlib.Path.cwd().parents[1] /'FENZ' / 'FENZ_Outlook.csv')"
   ]
  },
  {
   "cell_type": "code",
   "execution_count": 25,
   "metadata": {},
   "outputs": [],
   "source": [
    "table = table.dropna()"
   ]
  },
  {
   "cell_type": "code",
   "execution_count": 26,
   "metadata": {},
   "outputs": [],
   "source": [
    "table = table.set_index('REGC2018_1', drop=False)"
   ]
  },
  {
   "cell_type": "code",
   "execution_count": 27,
   "metadata": {},
   "outputs": [],
   "source": [
    "table = table.iloc[:,1:]"
   ]
  },
  {
   "cell_type": "code",
   "execution_count": 34,
   "metadata": {},
   "outputs": [
    {
     "data": {
      "text/html": [
       "<div>\n",
       "<style scoped>\n",
       "    .dataframe tbody tr th:only-of-type {\n",
       "        vertical-align: middle;\n",
       "    }\n",
       "\n",
       "    .dataframe tbody tr th {\n",
       "        vertical-align: top;\n",
       "    }\n",
       "\n",
       "    .dataframe thead th {\n",
       "        text-align: right;\n",
       "    }\n",
       "</style>\n",
       "<table border=\"1\" class=\"dataframe\">\n",
       "  <thead>\n",
       "    <tr style=\"text-align: right;\">\n",
       "      <th></th>\n",
       "      <th>REGC2018_1</th>\n",
       "      <th>geometry</th>\n",
       "    </tr>\n",
       "  </thead>\n",
       "  <tbody>\n",
       "    <tr>\n",
       "      <th>0</th>\n",
       "      <td>Northland Region</td>\n",
       "      <td>POLYGON ((173.1296337501863 -34.21388178335995...</td>\n",
       "    </tr>\n",
       "    <tr>\n",
       "      <th>1</th>\n",
       "      <td>Auckland Region</td>\n",
       "      <td>POLYGON ((175.0838311834375 -35.6998300326489,...</td>\n",
       "    </tr>\n",
       "    <tr>\n",
       "      <th>2</th>\n",
       "      <td>Waikato Region</td>\n",
       "      <td>POLYGON ((176.021811100262 -36.37127286673313,...</td>\n",
       "    </tr>\n",
       "    <tr>\n",
       "      <th>3</th>\n",
       "      <td>Bay of Plenty Region</td>\n",
       "      <td>POLYGON ((176.5204359841055 -37.35486831625581...</td>\n",
       "    </tr>\n",
       "    <tr>\n",
       "      <th>4</th>\n",
       "      <td>Gisborne Region</td>\n",
       "      <td>POLYGON ((178.2334151846358 -37.3333335650473,...</td>\n",
       "    </tr>\n",
       "  </tbody>\n",
       "</table>\n",
       "</div>"
      ],
      "text/plain": [
       "             REGC2018_1                                           geometry\n",
       "0      Northland Region  POLYGON ((173.1296337501863 -34.21388178335995...\n",
       "1       Auckland Region  POLYGON ((175.0838311834375 -35.6998300326489,...\n",
       "2        Waikato Region  POLYGON ((176.021811100262 -36.37127286673313,...\n",
       "3  Bay of Plenty Region  POLYGON ((176.5204359841055 -37.35486831625581...\n",
       "4       Gisborne Region  POLYGON ((178.2334151846358 -37.3333335650473,..."
      ]
     },
     "execution_count": 34,
     "metadata": {},
     "output_type": "execute_result"
    }
   ],
   "source": [
    "shape_gpd.head()"
   ]
  },
  {
   "cell_type": "code",
   "execution_count": 37,
   "metadata": {},
   "outputs": [
    {
     "data": {
      "text/html": [
       "<div>\n",
       "<style scoped>\n",
       "    .dataframe tbody tr th:only-of-type {\n",
       "        vertical-align: middle;\n",
       "    }\n",
       "\n",
       "    .dataframe tbody tr th {\n",
       "        vertical-align: top;\n",
       "    }\n",
       "\n",
       "    .dataframe thead th {\n",
       "        text-align: right;\n",
       "    }\n",
       "</style>\n",
       "<table border=\"1\" class=\"dataframe\">\n",
       "  <thead>\n",
       "    <tr style=\"text-align: right;\">\n",
       "      <th></th>\n",
       "      <th>REGC2018_1</th>\n",
       "      <th>Monday</th>\n",
       "      <th>Tuesday</th>\n",
       "      <th>Wednesday</th>\n",
       "      <th>Thursday</th>\n",
       "      <th>Friday</th>\n",
       "      <th>Saturday</th>\n",
       "      <th>Sunday</th>\n",
       "    </tr>\n",
       "    <tr>\n",
       "      <th>REGC2018_1</th>\n",
       "      <th></th>\n",
       "      <th></th>\n",
       "      <th></th>\n",
       "      <th></th>\n",
       "      <th></th>\n",
       "      <th></th>\n",
       "      <th></th>\n",
       "      <th></th>\n",
       "    </tr>\n",
       "  </thead>\n",
       "  <tbody>\n",
       "    <tr>\n",
       "      <th>Northland Region</th>\n",
       "      <td>Northland Region</td>\n",
       "      <td>low</td>\n",
       "      <td>medium</td>\n",
       "      <td>high</td>\n",
       "      <td>none</td>\n",
       "      <td>none</td>\n",
       "      <td>none</td>\n",
       "      <td>none</td>\n",
       "    </tr>\n",
       "    <tr>\n",
       "      <th>Auckland Region</th>\n",
       "      <td>Auckland Region</td>\n",
       "      <td>low</td>\n",
       "      <td>high</td>\n",
       "      <td>none</td>\n",
       "      <td>none</td>\n",
       "      <td>none</td>\n",
       "      <td>none</td>\n",
       "      <td>none</td>\n",
       "    </tr>\n",
       "    <tr>\n",
       "      <th>Waikato Region</th>\n",
       "      <td>Waikato Region</td>\n",
       "      <td>low</td>\n",
       "      <td>none</td>\n",
       "      <td>none</td>\n",
       "      <td>none</td>\n",
       "      <td>none</td>\n",
       "      <td>none</td>\n",
       "      <td>none</td>\n",
       "    </tr>\n",
       "    <tr>\n",
       "      <th>Bay of Plenty Region</th>\n",
       "      <td>Bay of Plenty Region</td>\n",
       "      <td>low</td>\n",
       "      <td>none</td>\n",
       "      <td>none</td>\n",
       "      <td>none</td>\n",
       "      <td>none</td>\n",
       "      <td>none</td>\n",
       "      <td>none</td>\n",
       "    </tr>\n",
       "    <tr>\n",
       "      <th>Gisborne Region</th>\n",
       "      <td>Gisborne Region</td>\n",
       "      <td>medium</td>\n",
       "      <td>none</td>\n",
       "      <td>none</td>\n",
       "      <td>none</td>\n",
       "      <td>none</td>\n",
       "      <td>none</td>\n",
       "      <td>none</td>\n",
       "    </tr>\n",
       "  </tbody>\n",
       "</table>\n",
       "</div>"
      ],
      "text/plain": [
       "                                REGC2018_1  Monday Tuesday Wednesday Thursday  \\\n",
       "REGC2018_1                                                                      \n",
       "Northland Region          Northland Region     low  medium      high     none   \n",
       "Auckland Region            Auckland Region     low    high      none     none   \n",
       "Waikato Region              Waikato Region     low    none      none     none   \n",
       "Bay of Plenty Region  Bay of Plenty Region     low    none      none     none   \n",
       "Gisborne Region            Gisborne Region  medium    none      none     none   \n",
       "\n",
       "                     Friday Saturday Sunday  \n",
       "REGC2018_1                                   \n",
       "Northland Region       none     none   none  \n",
       "Auckland Region        none     none   none  \n",
       "Waikato Region         none     none   none  \n",
       "Bay of Plenty Region   none     none   none  \n",
       "Gisborne Region        none     none   none  "
      ]
     },
     "execution_count": 37,
     "metadata": {},
     "output_type": "execute_result"
    }
   ],
   "source": [
    "table.head()"
   ]
  },
  {
   "cell_type": "code",
   "execution_count": null,
   "metadata": {},
   "outputs": [],
   "source": [
    "if gpd.__version__ >  0.4: \n",
    "    table = table.drop('REGC2018_1', axis=1)\n",
    "    table =  table.reset_index()"
   ]
  },
  {
   "cell_type": "code",
   "execution_count": 42,
   "metadata": {},
   "outputs": [],
   "source": [
    "shape_gpd_m = shape_gpd.merge(table, on='REGC2018_1')"
   ]
  },
  {
   "cell_type": "code",
   "execution_count": 30,
   "metadata": {},
   "outputs": [],
   "source": [
    "shape_gpd_m = shape_gpd_m.replace({'none':'missing'})"
   ]
  },
  {
   "cell_type": "code",
   "execution_count": 31,
   "metadata": {},
   "outputs": [
    {
     "data": {
      "text/html": [
       "<div>\n",
       "<style scoped>\n",
       "    .dataframe tbody tr th:only-of-type {\n",
       "        vertical-align: middle;\n",
       "    }\n",
       "\n",
       "    .dataframe tbody tr th {\n",
       "        vertical-align: top;\n",
       "    }\n",
       "\n",
       "    .dataframe thead th {\n",
       "        text-align: right;\n",
       "    }\n",
       "</style>\n",
       "<table border=\"1\" class=\"dataframe\">\n",
       "  <thead>\n",
       "    <tr style=\"text-align: right;\">\n",
       "      <th></th>\n",
       "      <th>REGC2018_1</th>\n",
       "      <th>geometry</th>\n",
       "      <th>Monday</th>\n",
       "      <th>Tuesday</th>\n",
       "      <th>Wednesday</th>\n",
       "      <th>Thursday</th>\n",
       "      <th>Friday</th>\n",
       "      <th>Saturday</th>\n",
       "      <th>Sunday</th>\n",
       "    </tr>\n",
       "  </thead>\n",
       "  <tbody>\n",
       "    <tr>\n",
       "      <th>0</th>\n",
       "      <td>Northland Region</td>\n",
       "      <td>POLYGON ((173.1296337501863 -34.21388178335995...</td>\n",
       "      <td>high</td>\n",
       "      <td>missing</td>\n",
       "      <td>missing</td>\n",
       "      <td>missing</td>\n",
       "      <td>missing</td>\n",
       "      <td>missing</td>\n",
       "      <td>missing</td>\n",
       "    </tr>\n",
       "    <tr>\n",
       "      <th>1</th>\n",
       "      <td>Auckland Region</td>\n",
       "      <td>POLYGON ((175.0838311834375 -35.6998300326489,...</td>\n",
       "      <td>low</td>\n",
       "      <td>missing</td>\n",
       "      <td>missing</td>\n",
       "      <td>missing</td>\n",
       "      <td>missing</td>\n",
       "      <td>missing</td>\n",
       "      <td>missing</td>\n",
       "    </tr>\n",
       "    <tr>\n",
       "      <th>2</th>\n",
       "      <td>Waikato Region</td>\n",
       "      <td>POLYGON ((176.021811100262 -36.37127286673313,...</td>\n",
       "      <td>low</td>\n",
       "      <td>missing</td>\n",
       "      <td>missing</td>\n",
       "      <td>missing</td>\n",
       "      <td>missing</td>\n",
       "      <td>missing</td>\n",
       "      <td>missing</td>\n",
       "    </tr>\n",
       "    <tr>\n",
       "      <th>3</th>\n",
       "      <td>Bay of Plenty Region</td>\n",
       "      <td>POLYGON ((176.5204359841055 -37.35486831625581...</td>\n",
       "      <td>missing</td>\n",
       "      <td>medium</td>\n",
       "      <td>missing</td>\n",
       "      <td>missing</td>\n",
       "      <td>missing</td>\n",
       "      <td>missing</td>\n",
       "      <td>missing</td>\n",
       "    </tr>\n",
       "    <tr>\n",
       "      <th>4</th>\n",
       "      <td>Gisborne Region</td>\n",
       "      <td>POLYGON ((178.2334151846358 -37.3333335650473,...</td>\n",
       "      <td>missing</td>\n",
       "      <td>medium</td>\n",
       "      <td>missing</td>\n",
       "      <td>missing</td>\n",
       "      <td>missing</td>\n",
       "      <td>missing</td>\n",
       "      <td>missing</td>\n",
       "    </tr>\n",
       "    <tr>\n",
       "      <th>5</th>\n",
       "      <td>Hawke's Bay Region</td>\n",
       "      <td>POLYGON ((177.1282447332019 -38.58643378250209...</td>\n",
       "      <td>missing</td>\n",
       "      <td>medium</td>\n",
       "      <td>medium</td>\n",
       "      <td>high</td>\n",
       "      <td>missing</td>\n",
       "      <td>missing</td>\n",
       "      <td>missing</td>\n",
       "    </tr>\n",
       "    <tr>\n",
       "      <th>6</th>\n",
       "      <td>Taranaki Region</td>\n",
       "      <td>POLYGON ((174.6165745508525 -38.72090301667241...</td>\n",
       "      <td>missing</td>\n",
       "      <td>missing</td>\n",
       "      <td>missing</td>\n",
       "      <td>missing</td>\n",
       "      <td>missing</td>\n",
       "      <td>missing</td>\n",
       "      <td>low</td>\n",
       "    </tr>\n",
       "    <tr>\n",
       "      <th>7</th>\n",
       "      <td>Manawatu-Wanganui Region</td>\n",
       "      <td>POLYGON ((175.5404559172229 -38.47219096644076...</td>\n",
       "      <td>missing</td>\n",
       "      <td>missing</td>\n",
       "      <td>missing</td>\n",
       "      <td>missing</td>\n",
       "      <td>missing</td>\n",
       "      <td>medium</td>\n",
       "      <td>missing</td>\n",
       "    </tr>\n",
       "    <tr>\n",
       "      <th>8</th>\n",
       "      <td>Wellington Region</td>\n",
       "      <td>POLYGON ((175.173208765827 -40.71963690002863,...</td>\n",
       "      <td>missing</td>\n",
       "      <td>missing</td>\n",
       "      <td>missing</td>\n",
       "      <td>high</td>\n",
       "      <td>high</td>\n",
       "      <td>missing</td>\n",
       "      <td>missing</td>\n",
       "    </tr>\n",
       "    <tr>\n",
       "      <th>9</th>\n",
       "      <td>West Coast Region</td>\n",
       "      <td>POLYGON ((172.2418564827838 -40.82628281629157...</td>\n",
       "      <td>missing</td>\n",
       "      <td>missing</td>\n",
       "      <td>missing</td>\n",
       "      <td>missing</td>\n",
       "      <td>missing</td>\n",
       "      <td>missing</td>\n",
       "      <td>missing</td>\n",
       "    </tr>\n",
       "    <tr>\n",
       "      <th>10</th>\n",
       "      <td>Canterbury Region</td>\n",
       "      <td>POLYGON ((173.7502820504679 -41.90886063298426...</td>\n",
       "      <td>missing</td>\n",
       "      <td>missing</td>\n",
       "      <td>missing</td>\n",
       "      <td>missing</td>\n",
       "      <td>missing</td>\n",
       "      <td>missing</td>\n",
       "      <td>missing</td>\n",
       "    </tr>\n",
       "    <tr>\n",
       "      <th>11</th>\n",
       "      <td>Otago Region</td>\n",
       "      <td>POLYGON ((169.675153184104 -43.95638378293365,...</td>\n",
       "      <td>missing</td>\n",
       "      <td>missing</td>\n",
       "      <td>missing</td>\n",
       "      <td>missing</td>\n",
       "      <td>missing</td>\n",
       "      <td>missing</td>\n",
       "      <td>missing</td>\n",
       "    </tr>\n",
       "    <tr>\n",
       "      <th>12</th>\n",
       "      <td>Southland Region</td>\n",
       "      <td>POLYGON ((168.0570689000215 -44.25984868175906...</td>\n",
       "      <td>missing</td>\n",
       "      <td>missing</td>\n",
       "      <td>missing</td>\n",
       "      <td>missing</td>\n",
       "      <td>missing</td>\n",
       "      <td>missing</td>\n",
       "      <td>missing</td>\n",
       "    </tr>\n",
       "    <tr>\n",
       "      <th>13</th>\n",
       "      <td>Tasman Region</td>\n",
       "      <td>POLYGON ((172.7393729329311 -40.30128546655451...</td>\n",
       "      <td>missing</td>\n",
       "      <td>missing</td>\n",
       "      <td>missing</td>\n",
       "      <td>missing</td>\n",
       "      <td>missing</td>\n",
       "      <td>missing</td>\n",
       "      <td>missing</td>\n",
       "    </tr>\n",
       "    <tr>\n",
       "      <th>14</th>\n",
       "      <td>Nelson Region</td>\n",
       "      <td>POLYGON ((173.3610310833733 -40.80537513297607...</td>\n",
       "      <td>missing</td>\n",
       "      <td>missing</td>\n",
       "      <td>missing</td>\n",
       "      <td>missing</td>\n",
       "      <td>missing</td>\n",
       "      <td>missing</td>\n",
       "      <td>missing</td>\n",
       "    </tr>\n",
       "    <tr>\n",
       "      <th>15</th>\n",
       "      <td>Marlborough Region</td>\n",
       "      <td>POLYGON ((174.5396774161644 -41.10538558291987...</td>\n",
       "      <td>missing</td>\n",
       "      <td>missing</td>\n",
       "      <td>missing</td>\n",
       "      <td>missing</td>\n",
       "      <td>missing</td>\n",
       "      <td>missing</td>\n",
       "      <td>missing</td>\n",
       "    </tr>\n",
       "  </tbody>\n",
       "</table>\n",
       "</div>"
      ],
      "text/plain": [
       "                  REGC2018_1  \\\n",
       "0           Northland Region   \n",
       "1            Auckland Region   \n",
       "2             Waikato Region   \n",
       "3       Bay of Plenty Region   \n",
       "4            Gisborne Region   \n",
       "5         Hawke's Bay Region   \n",
       "6            Taranaki Region   \n",
       "7   Manawatu-Wanganui Region   \n",
       "8          Wellington Region   \n",
       "9          West Coast Region   \n",
       "10         Canterbury Region   \n",
       "11              Otago Region   \n",
       "12          Southland Region   \n",
       "13             Tasman Region   \n",
       "14             Nelson Region   \n",
       "15        Marlborough Region   \n",
       "\n",
       "                                             geometry   Monday  Tuesday  \\\n",
       "0   POLYGON ((173.1296337501863 -34.21388178335995...     high  missing   \n",
       "1   POLYGON ((175.0838311834375 -35.6998300326489,...      low  missing   \n",
       "2   POLYGON ((176.021811100262 -36.37127286673313,...      low  missing   \n",
       "3   POLYGON ((176.5204359841055 -37.35486831625581...  missing   medium   \n",
       "4   POLYGON ((178.2334151846358 -37.3333335650473,...  missing   medium   \n",
       "5   POLYGON ((177.1282447332019 -38.58643378250209...  missing   medium   \n",
       "6   POLYGON ((174.6165745508525 -38.72090301667241...  missing  missing   \n",
       "7   POLYGON ((175.5404559172229 -38.47219096644076...  missing  missing   \n",
       "8   POLYGON ((175.173208765827 -40.71963690002863,...  missing  missing   \n",
       "9   POLYGON ((172.2418564827838 -40.82628281629157...  missing  missing   \n",
       "10  POLYGON ((173.7502820504679 -41.90886063298426...  missing  missing   \n",
       "11  POLYGON ((169.675153184104 -43.95638378293365,...  missing  missing   \n",
       "12  POLYGON ((168.0570689000215 -44.25984868175906...  missing  missing   \n",
       "13  POLYGON ((172.7393729329311 -40.30128546655451...  missing  missing   \n",
       "14  POLYGON ((173.3610310833733 -40.80537513297607...  missing  missing   \n",
       "15  POLYGON ((174.5396774161644 -41.10538558291987...  missing  missing   \n",
       "\n",
       "   Wednesday Thursday   Friday Saturday   Sunday  \n",
       "0    missing  missing  missing  missing  missing  \n",
       "1    missing  missing  missing  missing  missing  \n",
       "2    missing  missing  missing  missing  missing  \n",
       "3    missing  missing  missing  missing  missing  \n",
       "4    missing  missing  missing  missing  missing  \n",
       "5     medium     high  missing  missing  missing  \n",
       "6    missing  missing  missing  missing      low  \n",
       "7    missing  missing  missing   medium  missing  \n",
       "8    missing     high     high  missing  missing  \n",
       "9    missing  missing  missing  missing  missing  \n",
       "10   missing  missing  missing  missing  missing  \n",
       "11   missing  missing  missing  missing  missing  \n",
       "12   missing  missing  missing  missing  missing  \n",
       "13   missing  missing  missing  missing  missing  \n",
       "14   missing  missing  missing  missing  missing  \n",
       "15   missing  missing  missing  missing  missing  "
      ]
     },
     "execution_count": 31,
     "metadata": {},
     "output_type": "execute_result"
    }
   ],
   "source": [
    "shape_gpd_m"
   ]
  },
  {
   "cell_type": "code",
   "execution_count": 32,
   "metadata": {},
   "outputs": [],
   "source": [
    "#year = bulletin_dir.split('_')[-1]"
   ]
  },
  {
   "cell_type": "code",
   "execution_count": 33,
   "metadata": {},
   "outputs": [
    {
     "data": {
      "text/plain": [
       "[166, 179, -47.5, -34.1]"
      ]
     },
     "execution_count": 33,
     "metadata": {},
     "output_type": "execute_result"
    }
   ],
   "source": [
    "extent"
   ]
  },
  {
   "cell_type": "code",
   "execution_count": 34,
   "metadata": {},
   "outputs": [],
   "source": [
    "#f, ax = plt.subplots(figsize=(11, 8), subplot_kw=dict(projection=crs))\n",
    "\n",
    "#make_choropleth(ax, shape_gpd_m, var='Monday', dict_colors=outlook_rgb)\n",
    "\n",
    "#draw_Pacific(ax, extent = extent)\n",
    "\n",
    "#transform = ccrs.PlateCarree()._as_mpl_transform(ax)\n",
    "\n",
    "#text_transform = offset_copy(transform, units='dots', x=-25)\n",
    "\n",
    "# for i, row in shape_gpd.iterrows(): \n",
    "#     cname = row.name_to_plot\n",
    "#     lon = row.lon\n",
    "#     lat = row.lat\n",
    "    #txt = ax.text(lon, lat, cname, color='k', verticalalignment='center', horizontalalignment='center',\n",
    "                 #transform=text_transform, fontsize=7)\n",
    "    #txt.set_path_effects([patheffects.withStroke(linewidth=3, foreground='w')])\n",
    "\n",
    "#make_legend_outlook(ax, facecolors=outlook_rgb, subtitle = '{} {}'.format(season, year), fontsize=8.5)\n",
    "\n",
    "# ax.axvline(180, color='0.8', lw=0.5)\n",
    "\n",
    "# f.tight_layout()\n",
    "\n",
    "#ax.set_extent(extent, crs=ccrs.PlateCarree())\n",
    "\n",
    "#f.savefig(pathlib.Path.cwd().parents[1] / 'bulletin' / bulletin_dir / 'ICU_rainfall_forecast_map_{}.png'.format(bulletin_dir), dpi=200)"
   ]
  },
  {
   "cell_type": "code",
   "execution_count": 35,
   "metadata": {},
   "outputs": [
    {
     "data": {
      "image/png": "[encoded data removed]",
      "text/plain": [
       "<Figure size 1008x360 with 7 Axes>"
      ]
     },
     "metadata": {
      "needs_background": "light"
     },
     "output_type": "display_data"
    }
   ],
   "source": [
    "f, axes = plt.subplots(ncols=7, figsize=(14, 5), subplot_kw=dict(projection=crs))\n",
    "plt.subplots_adjust(left=0.1, right=0.9, top=0.9, bottom=0.1, wspace=0,)\n",
    "\n",
    "f.subplots_adjust(wspace=0)\n",
    "\n",
    "\n",
    "for i, day in enumerate(['Monday', 'Tuesday', 'Wednesday', 'Thursday', 'Friday', 'Saturday', 'Sunday']): \n",
    "    \n",
    "    ax = axes[i]\n",
    "    \n",
    "    make_choropleth(ax, shape_gpd_m, var=day, dict_colors=outlook_rgb)\n",
    "\n",
    "    draw_Pacific(ax, extent = extent)\n",
    "        \n",
    "    transform = ccrs.PlateCarree()._as_mpl_transform(ax)\n",
    "    \n",
    "    ax.set_extent(extent, crs=ccrs.PlateCarree())\n",
    "    \n",
    "    ax.set_title(day)\n",
    "    ax.outline_patch.set_visible(False)\n",
    "    \n",
    "    ax.spines['top'].set_visible(False)\n",
    "    ax.spines['right'].set_visible(False)\n",
    "    ax.spines['bottom'].set_visible(False)\n",
    "    ax.spines['left'].set_visible(False)"
   ]
  },
  {
   "cell_type": "code",
   "execution_count": 36,
   "metadata": {},
   "outputs": [],
   "source": [
    "f.savefig('../figures/map.png', bbox_inches='tight', dpi=200)"
   ]
  },
  {
   "cell_type": "code",
   "execution_count": 37,
   "metadata": {},
   "outputs": [],
   "source": [
    "!open ../figures/map.png"
   ]
  },
  {
   "cell_type": "code",
   "execution_count": null,
   "metadata": {},
   "outputs": [],
   "source": []
  }
 ],
 "metadata": {
  "kernelspec": {
   "display_name": "Python 3",
   "language": "python",
   "name": "python3"
  },
  "language_info": {
   "codemirror_mode": {
    "name": "ipython",
    "version": 3
   },
   "file_extension": ".py",
   "mimetype": "text/x-python",
   "name": "python",
   "nbconvert_exporter": "python",
   "pygments_lexer": "ipython3",
   "version": "3.7.3"
  }
 },
 "nbformat": 4,
 "nbformat_minor": 2
}
